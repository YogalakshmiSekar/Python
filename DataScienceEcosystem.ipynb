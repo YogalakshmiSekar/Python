{
 "cells": [
  {
   "cell_type": "markdown",
   "id": "e47d3bd9-a11e-4f35-b047-4af4ee1f038e",
   "metadata": {},
   "source": [
    "<center>\n",
    "    <img src=\"https://cf-courses-data.s3.us.cloud-object-storage.appdomain.cloud/IBMDeveloperSkillsNetwork-DS0105EN-SkillsNetwork/labs/Module2/images/SN_web_lightmode.png\" width=\"300\" alt=\"cognitiveclass.ai logo\">\n",
    "</center>"
   ]
  },
  {
   "cell_type": "markdown",
   "id": "f9576030-1e53-4711-bf4e-d0acf3b33668",
   "metadata": {},
   "source": [
    "#### Add your code below following the instructions given in the course"
   ]
  },
  {
   "cell_type": "markdown",
   "id": "41ac2b4b-2903-4951-a58e-b4bcb98ec8ef",
   "metadata": {},
   "source": [
    "# Data Science Tools and Ecosystem "
   ]
  },
  {
   "cell_type": "markdown",
   "id": "7259acd8-7193-45dd-9605-5c859b5d9432",
   "metadata": {},
   "source": [
    "#### In this notebook, Data Science Tools and Ecosystem are summarized."
   ]
  },
  {
   "cell_type": "markdown",
   "id": "10bbec94-d111-455f-bc22-9fa10b6256a4",
   "metadata": {},
   "source": [
    "Objectives: \n",
    "* Popular Languages used by Data Scientists\n",
    "* Commonly Used Libraries\n",
    "* Data Science Tools\n",
    "* Basic Arithmatic Operation"
   ]
  },
  {
   "cell_type": "markdown",
   "id": "f8654ebc-688c-40d1-b886-d01d684ab2ea",
   "metadata": {},
   "source": [
    "##### Some of the popular languages that Data Scientists use are:"
   ]
  },
  {
   "cell_type": "markdown",
   "id": "b521e0ee-0c53-4696-903d-c731debb2e6c",
   "metadata": {},
   "source": [
    "1. Python\n",
    "2. R\n",
    "3. Java \n",
    "4. Julia\n",
    "5. Scala\n",
    "6. SQL"
   ]
  },
  {
   "cell_type": "markdown",
   "id": "e7029640-06ef-477c-ad4b-371f10ef33c6",
   "metadata": {},
   "source": [
    "##### Some of the commonly used libraries used by Data Scientists include:"
   ]
  },
  {
   "cell_type": "markdown",
   "id": "28f24a55-309f-4753-9770-09b26669162a",
   "metadata": {},
   "source": [
    "1. Matplotlib\n",
    "2. Pandas \n",
    "3. Tensorflow\n",
    "4. NumPY\n",
    "5. Seaborn\n",
    "6. Plotly\n",
    "7. Scikit-Learn"
   ]
  },
  {
   "cell_type": "markdown",
   "id": "54aced28-673c-4491-ac21-2d699cc58d3a",
   "metadata": {},
   "source": [
    "##### Data Science Tools:"
   ]
  },
  {
   "cell_type": "markdown",
   "id": "aeb463d5-b02e-48f9-8ad1-02c1efd62e39",
   "metadata": {},
   "source": [
    "| Data Science Tools | \n",
    "|----------|\n",
    "|   Jupyter Notebooks    |  \n",
    "|   RStudio  |  \n",
    "|   Spyder  |   \n",
    "|   Apache Zeppelin  |"
   ]
  },
  {
   "cell_type": "markdown",
   "id": "9e1ed989-f8b3-459d-82fe-7016e8734ab1",
   "metadata": {},
   "source": [
    "### Below are a few examples of evaluating arithmetic expressions in Python:"
   ]
  },
  {
   "cell_type": "code",
   "execution_count": 4,
   "id": "60080c41-b00e-4d5c-a834-a91e0c88701b",
   "metadata": {},
   "outputs": [
    {
     "data": {
      "text/plain": [
       "17"
      ]
     },
     "execution_count": 4,
     "metadata": {},
     "output_type": "execute_result"
    }
   ],
   "source": [
    "(3*4)+5"
   ]
  },
  {
   "cell_type": "code",
   "execution_count": 5,
   "id": "7bbae546-5c77-425c-8308-2e8c4825efe2",
   "metadata": {},
   "outputs": [
    {
     "data": {
      "text/plain": [
       "3.3333333333333335"
      ]
     },
     "execution_count": 5,
     "metadata": {},
     "output_type": "execute_result"
    }
   ],
   "source": [
    "# This will convert 200 minutes to hours by dividing by 60.\n",
    "minutes = 200\n",
    "hours = minutes / 60\n",
    "hours"
   ]
  },
  {
   "cell_type": "markdown",
   "id": "3a282970-0bda-4b0c-86d4-72f65f123d77",
   "metadata": {},
   "source": [
    "## Author Name:\n",
    "Yogalakshmi Sekar"
   ]
  }
 ],
 "metadata": {
  "kernelspec": {
   "display_name": "Python 3 (ipykernel)",
   "language": "python",
   "name": "python3"
  },
  "language_info": {
   "codemirror_mode": {
    "name": "ipython",
    "version": 3
   },
   "file_extension": ".py",
   "mimetype": "text/x-python",
   "name": "python",
   "nbconvert_exporter": "python",
   "pygments_lexer": "ipython3",
   "version": "3.11.7"
  }
 },
 "nbformat": 4,
 "nbformat_minor": 5
}
